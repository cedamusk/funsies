{
  "nbformat": 4,
  "nbformat_minor": 0,
  "metadata": {
    "colab": {
      "private_outputs": true,
      "provenance": [],
      "authorship_tag": "ABX9TyMcJIG50duGoGoq3haI0984",
      "include_colab_link": true
    },
    "kernelspec": {
      "name": "python3",
      "display_name": "Python 3"
    },
    "language_info": {
      "name": "python"
    }
  },
  "cells": [
    {
      "cell_type": "markdown",
      "metadata": {
        "id": "view-in-github",
        "colab_type": "text"
      },
      "source": [
        "<a href=\"https://colab.research.google.com/github/cedamusk/funsies/blob/main/QuantumCircuitSeismicTomography.ipynb\" target=\"_parent\"><img src=\"https://colab.research.google.com/assets/colab-badge.svg\" alt=\"Open In Colab\"/></a>"
      ]
    },
    {
      "cell_type": "code",
      "execution_count": null,
      "metadata": {
        "id": "xFORdJXFnRnd"
      },
      "outputs": [],
      "source": [
        "!pip install qiskit numpy matplotlib qiskit-aer"
      ]
    },
    {
      "cell_type": "code",
      "source": [
        "import numpy as np\n",
        "import qiskit\n",
        "from qiskit import QuantumCircuit\n",
        "from qiskit_aer import AerSimulator\n",
        "from qiskit import transpile\n",
        "import matplotlib.pyplot as plt"
      ],
      "metadata": {
        "id": "tndyw4s2nb2k"
      },
      "execution_count": null,
      "outputs": []
    },
    {
      "cell_type": "code",
      "source": [
        "def generate_geological_quantum_data(num_samples=1000):\n",
        "  def quantum_measurement():\n",
        "    qc=QuantumCircuit(3,3)\n",
        "\n",
        "    qc.h(range(3))\n",
        "\n",
        "    qc.cx(0,1)\n",
        "    qc.cz(1,2)\n",
        "\n",
        "    qc.measure(range(3), range(3))\n",
        "    return qc\n",
        "\n",
        "  simulator=AerSimulator()\n",
        "\n",
        "  results=[]\n",
        "  for _ in range(num_samples):\n",
        "    qc=quantum_measurement()\n",
        "    compiled_circuit=transpile(qc, simulator)\n",
        "\n",
        "    result=simulator.run(compiled_circuit, shots=1).result()\n",
        "\n",
        "    measurement=int(list(result.get_counts().keys())[0], 2)\n",
        "    results.append(measurement)\n",
        "\n",
        "  return np.array(results)\n",
        "\n",
        ""
      ],
      "metadata": {
        "id": "nqV8VxuMn29H"
      },
      "execution_count": null,
      "outputs": []
    },
    {
      "cell_type": "code",
      "source": [
        "def analyze_quantum_seismic_data(data):\n",
        "  analysis={\n",
        "      'mean':np.mean(data),\n",
        "      'std_dev': np.std(data),\n",
        "      'min': np.min(data),\n",
        "      'max': np.max(data)\n",
        "  }\n",
        "\n",
        "  plt.figure(figsize=(10, 6))\n",
        "  plt.hist(data, bins=20, edgecolor='black')\n",
        "  plt.title('Quantum Seismic Tomography Data Distribution')\n",
        "  plt.xlabel('Measurement Value')\n",
        "  plt.ylabel('Frequency')\n",
        "  plt.savefig('seismic_quantum_distribution.png')\n",
        "  plt.close()\n",
        "\n",
        "  fft_result=np.fft.fft(data)\n",
        "  analysis['dominant_frequencies']=np.abs(fft_result[:5])\n",
        "\n",
        "  return analysis"
      ],
      "metadata": {
        "id": "RXgS6M6zq9_C"
      },
      "execution_count": null,
      "outputs": []
    },
    {
      "cell_type": "code",
      "source": [
        "def main():\n",
        "  quantum_data=generate_geological_quantum_data(num_samples=5000)\n",
        "\n",
        "  analysis_results=analyze_quantum_seismic_data(quantum_data)\n",
        "\n",
        "  print(\"Quantum Seismic Tomography Analysis:\")\n",
        "  for key, value in analysis_results.items():\n",
        "    print(f\"{key}: {value}\")\n",
        ""
      ],
      "metadata": {
        "id": "61Bbdw1tuzWx"
      },
      "execution_count": null,
      "outputs": []
    },
    {
      "cell_type": "code",
      "source": [
        "if __name__==\"__main__\":\n",
        "  main()"
      ],
      "metadata": {
        "id": "-V9x2Z9VvTW8"
      },
      "execution_count": null,
      "outputs": []
    },
    {
      "cell_type": "code",
      "source": [
        "# Import libraries\n",
        "import numpy as np\n",
        "import qiskit\n",
        "from qiskit import QuantumCircuit, transpile\n",
        "from qiskit_aer import AerSimulator\n",
        "import matplotlib.pyplot as plt\n",
        "import csv\n",
        "\n",
        "# Initialize the AerSimulator backend\n",
        "simulator = AerSimulator()\n",
        "\n",
        "# Enhanced function to define a quantum circuit with custom parameters\n",
        "def quantum_measurement(num_qubits=3, include_entanglement=False):\n",
        "    \"\"\"\n",
        "    Constructs and executes a quantum circuit to simulate a geological measurement.\n",
        "    Args:\n",
        "        num_qubits (int): Number of qubits in the circuit.\n",
        "        include_entanglement (bool): Whether to include entanglement using CNOT gates.\n",
        "    Returns:\n",
        "        counts (dict): Measurement outcomes and their probabilities.\n",
        "    \"\"\"\n",
        "    # Define a quantum circuit\n",
        "    qc = QuantumCircuit(num_qubits, num_qubits)\n",
        "\n",
        "    # Apply Hadamard gates to create superposition\n",
        "    qc.h(range(num_qubits))\n",
        "\n",
        "    # Optionally add entanglement\n",
        "    if include_entanglement:\n",
        "        for i in range(num_qubits - 1):\n",
        "            qc.cx(i, i + 1)\n",
        "\n",
        "    # Measure all qubits\n",
        "    qc.measure(range(num_qubits), range(num_qubits))\n",
        "\n",
        "    # Transpile for the simulator and execute\n",
        "    transpiled_qc = transpile(qc, simulator)\n",
        "    job = simulator.run(transpiled_qc)\n",
        "    result = job.result()\n",
        "\n",
        "    # Get the measurement results\n",
        "    counts = result.get_counts()\n",
        "    return counts\n",
        "\n",
        "# Generate geological data with additional parameters\n",
        "def generate_geological_quantum_data(num_samples=1000, num_qubits=3, include_entanglement=False):\n",
        "    \"\"\"\n",
        "    Generates simulated geological data using repeated quantum measurements.\n",
        "    Args:\n",
        "        num_samples (int): Number of quantum measurements to simulate.\n",
        "        num_qubits (int): Number of qubits in the circuit.\n",
        "        include_entanglement (bool): Whether to include entanglement.\n",
        "    Returns:\n",
        "        dataset (list): A list of binary strings representing measurement results.\n",
        "    \"\"\"\n",
        "    dataset = []\n",
        "    for _ in range(num_samples):\n",
        "        counts = quantum_measurement(num_qubits, include_entanglement)\n",
        "        sample = np.random.choice(list(counts.keys()), p=np.array(list(counts.values())) / sum(counts.values()))\n",
        "        dataset.append(sample)\n",
        "    return dataset\n",
        "\n",
        "# Export the dataset to a CSV file\n",
        "def export_data_to_csv(data, filename=\"quantum_geological_data.csv\"):\n",
        "    \"\"\"\n",
        "    Exports the dataset to a CSV file.\n",
        "    Args:\n",
        "        data (list): A list of binary strings representing measurement results.\n",
        "        filename (str): The name of the CSV file.\n",
        "    \"\"\"\n",
        "    with open(filename, mode=\"w\", newline=\"\") as file:\n",
        "        writer = csv.writer(file)\n",
        "        writer.writerow([\"Measurement Outcome\"])\n",
        "        for entry in data:\n",
        "            writer.writerow([entry])\n",
        "    print(f\"Data exported to {filename}\")\n",
        "\n",
        "# Enhanced visualization with optional 3D plotting\n",
        "def visualize_data(data, num_qubits=3, plot_3d=False):\n",
        "    \"\"\"\n",
        "    Visualizes the frequency of each measurement outcome.\n",
        "    Args:\n",
        "        data (list): A list of binary strings representing measurement results.\n",
        "        num_qubits (int): Number of qubits in the data.\n",
        "        plot_3d (bool): Whether to create a 3D bar plot.\n",
        "    \"\"\"\n",
        "    # Count the frequency of each unique outcome\n",
        "    unique, counts = np.unique(data, return_counts=True)\n",
        "    if plot_3d:\n",
        "        from mpl_toolkits.mplot3d import Axes3D\n",
        "        fig = plt.figure()\n",
        "        ax = fig.add_subplot(111, projection=\"3d\")\n",
        "        x = np.arange(len(unique))\n",
        "        ax.bar(x, counts, zsort=\"average\")\n",
        "        ax.set_xticks(x)\n",
        "        ax.set_xticklabels(unique, rotation=90)\n",
        "        ax.set_xlabel(\"Measurement Outcomes\")\n",
        "        ax.set_ylabel(\"Frequency\")\n",
        "        ax.set_title(f\"3D Quantum Geological Data ({len(data)} samples)\")\n",
        "    else:\n",
        "        plt.bar(unique, counts, color=\"skyblue\")\n",
        "        plt.xlabel(\"Measurement Outcomes\")\n",
        "        plt.ylabel(\"Frequency\")\n",
        "        plt.title(f\"Quantum Geological Data ({len(data)} samples)\")\n",
        "        plt.xticks(rotation=45)\n",
        "    plt.show()\n",
        "\n",
        "# Example Usage\n",
        "num_samples = 100\n",
        "num_qubits = 4\n",
        "include_entanglement = True\n",
        "\n",
        "data = generate_geological_quantum_data(num_samples, num_qubits, include_entanglement)\n",
        "visualize_data(data, num_qubits, plot_3d=False)\n",
        "export_data_to_csv(data)\n"
      ],
      "metadata": {
        "id": "7HLBN5PGAZkR"
      },
      "execution_count": null,
      "outputs": []
    }
  ]
}